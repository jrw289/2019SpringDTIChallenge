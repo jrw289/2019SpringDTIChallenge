{
 "cells": [
  {
   "cell_type": "code",
   "execution_count": null,
   "metadata": {
    "collapsed": true
   },
   "outputs": [],
   "source": [
    "import pandas as pd\n",
    "import seaborn as sns\n",
    "import matplotlib.pyplot as plt\n",
    "data = pd.read_csv('LinkedIn_Boot_Camp_Profiles.csv')"
   ]
  },
  {
   "cell_type": "code",
   "execution_count": null,
   "metadata": {},
   "outputs": [],
   "source": [
    "data"
   ]
  },
  {
   "cell_type": "code",
   "execution_count": null,
   "metadata": {},
   "outputs": [],
   "source": [
    "%matplotlib inline\n",
    "x = sns.barplot(data['boot_camp'].tolist(),data['LI_profiles'].tolist())\n",
    "plt.xticks(rotation=90)\n",
    "x.set_yscale('log')\n",
    "x.set_ylabel('Number of Profiles')\n",
    "x.set_title('LinkedIn Profiles for Popular DS Boot Camps')"
   ]
  },
  {
   "cell_type": "code",
   "execution_count": null,
   "metadata": {},
   "outputs": [],
   "source": [
    "rat_per = [100*i for i in data['ratio'].tolist()]\n",
    "y = sns.barplot(data['boot_camp'].tolist(),rat_per)\n",
    "plt.xticks(rotation=90)\n",
    "y.set_ylabel('Percent')\n",
    "y.set_title('Percentage of Profiles who Work at the Boot Camp They Attended')"
   ]
  },
  {
   "cell_type": "code",
   "execution_count": null,
   "metadata": {
    "collapsed": true
   },
   "outputs": [],
   "source": []
  }
 ],
 "metadata": {
  "kernelspec": {
   "display_name": "Python 3",
   "language": "python",
   "name": "python3"
  },
  "language_info": {
   "codemirror_mode": {
    "name": "ipython",
    "version": 3
   },
   "file_extension": ".py",
   "mimetype": "text/x-python",
   "name": "python",
   "nbconvert_exporter": "python",
   "pygments_lexer": "ipython3",
   "version": "3.6.2"
  }
 },
 "nbformat": 4,
 "nbformat_minor": 2
}
